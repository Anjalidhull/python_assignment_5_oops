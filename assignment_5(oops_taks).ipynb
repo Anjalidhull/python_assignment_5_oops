{
 "cells": [
  {
   "cell_type": "code",
   "execution_count": null,
   "id": "4cb3d288-aed6-4b52-90e2-c23cdf24e23c",
   "metadata": {},
   "outputs": [],
   "source": [
    "Q1, Create a vehicle class with an init method having instance variables as name_of_vehicle, max_speed\n",
    "and average_of_vehicle."
   ]
  },
  {
   "cell_type": "code",
   "execution_count": 4,
   "id": "b87ed38e-e09f-4db7-a7e5-e2a9de0148eb",
   "metadata": {},
   "outputs": [
    {
     "name": "stdout",
     "output_type": "stream",
     "text": [
      " max speed and avg of car are 280 km / h and 140 respectivly\n",
      " max speed and avg of byke are 220km/h and 120 respectivly\n"
     ]
    }
   ],
   "source": [
    "#ANSWER:-\n",
    "class Vehicle:\n",
    "    def __init__(self,name_of_vehicle, max_speed,average_of_vehicle):\n",
    "        self.name=name_of_vehicle\n",
    "        self.speed=max_speed\n",
    "        self.avg=average_of_vehicle\n",
    "        \n",
    "    def details(self):\n",
    "        print(f\" max speed and avg of {self.name} are {self.speed} and {self.avg} respectivly\")\n",
    "        \n",
    "car=Vehicle(\"car\",\"280 km / h\",140)\n",
    "byke= Vehicle(\"byke\",\"220km/h\",120)\n",
    "car.details()\n",
    "byke.details()\n",
    "\n"
   ]
  },
  {
   "cell_type": "code",
   "execution_count": 1,
   "id": "bdcb068f-643e-4164-b008-0751add7abb9",
   "metadata": {},
   "outputs": [],
   "source": [
    "Q2. Create a child class car from the vehicle class created in Que 1, which will inherit the vehicle class.\n",
    "Create a method named seating_capacity which takes capacity as an argument and returns the name of\n",
    "the vehicle and its seating capacity.\n"
   ]
  },
  {
   "cell_type": "code",
   "execution_count": 32,
   "id": "5a98a722-5d54-4c2c-9c14-23b9d657e279",
   "metadata": {},
   "outputs": [
    {
     "name": "stdout",
     "output_type": "stream",
     "text": [
      " max speed and avg of car are 280 km / h and 140 respectivly\n",
      " max speed and avg of byke are 220km/h and 120 respectivly\n",
      " seating_capacity of car is 6\n",
      " seating_capacity of byke is 2\n"
     ]
    }
   ],
   "source": [
    "#ANSWER:-\n",
    "class Vehicle:\n",
    "    def __init__(self,name_of_vehicle, max_speed,average_of_vehicle):\n",
    "        self.name=name_of_vehicle\n",
    "        self.speed=max_speed\n",
    "        self.avg=average_of_vehicle\n",
    "        \n",
    "    def details(self):\n",
    "        print(f\" max speed and avg of {self.name} are {self.speed} and {self.avg} respectivly\")\n",
    "        \n",
    "car=Vehicle(\"car\",\"280 km / h\",140)\n",
    "byke= Vehicle(\"byke\",\"220km/h\",120)\n",
    "car.details()\n",
    "byke.details()\n",
    "\n",
    "\n",
    "class car(Vehicle):\n",
    "    def __init__(self,name,seating_capacity):\n",
    "         super().__init__(name,\"280 km /h\",\"140 km /h\")\n",
    "         self.seating_capacity =seating_capacity \n",
    "\n",
    "         # self.name=name\n",
    "    \n",
    "    def display(self):\n",
    "        print(f\" seating_capacity of {self.name} is {self.seating_capacity}\")\n",
    "       \n",
    "c=car(\"car\",6)\n",
    "b=car(\"byke\",2)\n",
    "c.display() \n",
    "b.display()\n",
    "              \n",
    "    "
   ]
  },
  {
   "cell_type": "code",
   "execution_count": 7,
   "id": "2a2441a1-c760-4dc3-8145-c604ce1bc16f",
   "metadata": {},
   "outputs": [],
   "source": [
    "Q3. What is multiple inheritance? Write a python code to demonstrate multiple inheritance.\n",
    "ANSWER::\n",
    "    When a class is derived from more than one base class it is called multiple Inheritance.\n",
    "    The derived class inherits all the features of the base case. \n",
    "    Syntex: \n",
    "        class Base1():\n",
    "            body of class\n",
    "        class Base2():\n",
    "            body of class\n",
    "        class Derived (Base1,Base2):\n",
    "            body of class\n",
    "            \n",
    "    Example:        "
   ]
  },
  {
   "cell_type": "code",
   "execution_count": 10,
   "id": "1e12c02c-260b-4b3e-925e-341ebd076022",
   "metadata": {},
   "outputs": [
    {
     "name": "stdout",
     "output_type": "stream",
     "text": [
      "In Class2\n"
     ]
    }
   ],
   "source": [
    "# Python Program to depict multiple inheritance\n",
    "\n",
    "class Class1:\n",
    "\tdef m(self):\n",
    "\t\tprint(\"In Class1\")\n",
    "\t\n",
    "class Class2:\n",
    "\tdef m(self):\n",
    "\t\tprint(\"In Class2\")\n",
    "\t\t\n",
    "class Class3(Class2, Class1):\n",
    "\tpass\n",
    "\t\n",
    "obj = Class3()\n",
    "obj.m()\n"
   ]
  },
  {
   "cell_type": "code",
   "execution_count": null,
   "id": "2a1d99cf-6eeb-47c8-9c9d-328d81392261",
   "metadata": {},
   "outputs": [],
   "source": [
    "Q4. What are getter and setter in python? Create a class and create a getter and a setter method in this\n",
    "class.\n",
    "ANSWER:\n",
    "    For the purpose of data encapsulation, most object oriented languages use getters and setters method\n",
    "getter_method:\n",
    "    getters are the methods which help access the private attributes or get the value of the private attributes .\n",
    "setter_method:    \n",
    "    setters are the methods which help change or set the value of private attributes.\n",
    "    "
   ]
  },
  {
   "cell_type": "code",
   "execution_count": 13,
   "id": "85b64d56-ab3c-48c5-bfa1-433c5716756d",
   "metadata": {},
   "outputs": [
    {
     "name": "stdout",
     "output_type": "stream",
     "text": [
      "{'_students__name': 'Anjali', '_students__rollno': 12, '_students__clas': '12th'}\n",
      "Anjali\n",
      "15\n"
     ]
    }
   ],
   "source": [
    "class students():\n",
    "    def __init__(self,name,rollno,cl):\n",
    "        self.__name=name\n",
    "        self.__rollno=rollno\n",
    "        self.__clas=cl\n",
    "        \n",
    "    # getter method\n",
    "    def get__name(self):\n",
    "        return self.__name \n",
    "    #setter method\n",
    "    def set__rollno(self):\n",
    "         self.__rollno=15\n",
    "         return self.__rollno\n",
    "  \n",
    "s1=students(\"Anjali\",12,\"12th\")\n",
    "print(s1.__dict__)\n",
    "# using getter method\n",
    "print(s1.get__name())\n",
    "# using setter method\n",
    "print(s1.set__rollno())\n",
    "\n",
    "    \n",
    "    \n",
    "        "
   ]
  },
  {
   "cell_type": "code",
   "execution_count": null,
   "id": "024d97eb-73c3-4ba4-9966-b776f5c572a2",
   "metadata": {},
   "outputs": [],
   "source": [
    "Q5.What is method overriding in python? Write a python code to demonstrate method overriding.\n",
    "       The overriding method allows a child class to provide a specific implementation of a method that is\n",
    "already provided by one of its parent classes."
   ]
  },
  {
   "cell_type": "code",
   "execution_count": 14,
   "id": "2544f064-343a-40e2-96e1-1bd9062de327",
   "metadata": {},
   "outputs": [
    {
     "name": "stdout",
     "output_type": "stream",
     "text": [
      "5000\n"
     ]
    }
   ],
   "source": [
    "class Employee: # define classs\n",
    "    def __init__(self, name, base_pay): # constructor\n",
    "        self.name = name    # instance variable\n",
    "        self.base_pay = base_pay\n",
    "        \n",
    "    #getter method to return base.py    \n",
    "\n",
    "    def get_pay(self):   \n",
    "        return self.base_pay\n",
    "    \n",
    "class SalesEmployee(Employee): # child class\n",
    "    def __init__(self, name, base_pay, sales_incentive):\n",
    "        self.name = name\n",
    "        self.base_pay = base_pay\n",
    "        self.sales_incentive = sales_incentive\n",
    "        \n",
    "john = SalesEmployee('John', 5000, 1500)\n",
    "print(john.get_pay())\n",
    "\n",
    "    \n",
    "    \n",
    "    \n",
    "    \n",
    "    \n",
    "    "
   ]
  }
 ],
 "metadata": {
  "kernelspec": {
   "display_name": "Python 3 (ipykernel)",
   "language": "python",
   "name": "python3"
  },
  "language_info": {
   "codemirror_mode": {
    "name": "ipython",
    "version": 3
   },
   "file_extension": ".py",
   "mimetype": "text/x-python",
   "name": "python",
   "nbconvert_exporter": "python",
   "pygments_lexer": "ipython3",
   "version": "3.10.8"
  }
 },
 "nbformat": 4,
 "nbformat_minor": 5
}
